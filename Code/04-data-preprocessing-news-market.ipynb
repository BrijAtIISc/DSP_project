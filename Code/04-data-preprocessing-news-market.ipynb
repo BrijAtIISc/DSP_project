{
 "cells": [
  {
   "cell_type": "markdown",
   "metadata": {},
   "source": [
    "# Data Preprocessing"
   ]
  },
  {
   "cell_type": "markdown",
   "metadata": {},
   "source": [
    "## Environment Setup"
   ]
  },
  {
   "cell_type": "code",
   "execution_count": null,
   "metadata": {},
   "outputs": [],
   "source": [
    "%pip install -r '../requirements.txt'"
   ]
  },
  {
   "cell_type": "code",
   "execution_count": null,
   "metadata": {},
   "outputs": [],
   "source": [
    "import json\n",
    "import glob\n",
    "import torch\n",
    "import pandas as pd\n",
    "from datetime import datetime\n",
    "from transformers import pipeline\n",
    "from vaderSentiment.vaderSentiment import SentimentIntensityAnalyzer"
   ]
  },
  {
   "cell_type": "code",
   "execution_count": null,
   "metadata": {},
   "outputs": [],
   "source": [
    "import nltk\n",
    "nltk.download('popular')"
   ]
  },
  {
   "cell_type": "code",
   "execution_count": null,
   "metadata": {},
   "outputs": [],
   "source": [
    "# check if torch finds cuda\n",
    "torch.cuda.is_available()"
   ]
  },
  {
   "cell_type": "code",
   "execution_count": null,
   "metadata": {},
   "outputs": [],
   "source": [
    "# CONSTANTS\n",
    "DEVICE = torch.device('cuda' if torch.cuda.is_available() else 'cpu')\n",
    "FILENAME = '../Dataset/scraper/raw/rawdata_1731148570.344731.json'"
   ]
  },
  {
   "cell_type": "markdown",
   "metadata": {},
   "source": [
    "## Data Processing"
   ]
  },
  {
   "cell_type": "code",
   "execution_count": null,
   "metadata": {},
   "outputs": [],
   "source": [
    "summarizer = pipeline(\"summarization\", device=DEVICE)\n",
    "def get_summary(text):\n",
    "    summary = summarizer(text, truncation=True, max_length=300, min_length=50, do_sample=True, temperature=0.3)\n",
    "    return summary[0]['summary_text']"
   ]
  },
  {
   "cell_type": "code",
   "execution_count": null,
   "metadata": {},
   "outputs": [],
   "source": [
    "def get_vader_score(text):\n",
    "    if type(text) != str or len(text) == 0:    return 0\n",
    "    text = text.strip()\n",
    "    analyzer = SentimentIntensityAnalyzer()\n",
    "    sentiment = analyzer.polarity_scores(text)\n",
    "    return sentiment[\"compound\"]"
   ]
  },
  {
   "cell_type": "code",
   "execution_count": null,
   "metadata": {},
   "outputs": [],
   "source": [
    "# %%script false --no-raise-error\n",
    "with open(FILENAME, 'r') as f:\n",
    "    data = json.load(f)\n",
    "article_df = pd.DataFrame(data)\n",
    "article_df['datetime'] = pd.to_datetime(article_df['datetime'])\n",
    "article_df.dropna(subset=['datetime'], inplace=True)\n",
    "article_df.head()"
   ]
  },
  {
   "cell_type": "code",
   "execution_count": null,
   "metadata": {},
   "outputs": [],
   "source": [
    "# %%script false --no-raise-error\n",
    "article_df['summary'] = article_df['text'].apply(get_summary)\n",
    "article_df['summary_vader'] = article_df['summary'].apply(get_vader_score)\n",
    "article_df['description_vader'] = article_df['description'].apply(get_vader_score)"
   ]
  },
  {
   "cell_type": "code",
   "execution_count": null,
   "metadata": {},
   "outputs": [],
   "source": [
    "# %%script false --no-raise-error\n",
    "article_df.drop(columns=['metadata', 'text'], inplace=True)\n",
    "article_df.sort_values('datetime', inplace=True)\n",
    "article_df.to_excel(FILENAME.replace('raw', 'preprocessed').replace('.json', '.xlsx'), index=False)\n",
    "article_df.head()"
   ]
  },
  {
   "cell_type": "code",
   "execution_count": null,
   "metadata": {},
   "outputs": [],
   "source": [
    "# Read each preprocessed file and concatenate them into a single DataFrame\n",
    "excel_files = glob.glob(\"../Dataset/scraper/preprocessed/articledf_*.xlsx\")\n",
    "df_list = [pd.read_excel(file, parse_dates=['datetime']) for file in excel_files]\n",
    "article_df = pd.concat(df_list, ignore_index=True)\n",
    "article_df.drop_duplicates(subset=['url'])\n",
    "article_df.sort_values('datetime', inplace=True)\n",
    "article_df.to_excel(\"../Dataset/scraper/preprocessed/market_article_df.xlsx\", index=False)"
   ]
  }
 ],
 "metadata": {
  "kernelspec": {
   "display_name": "Python 3",
   "language": "python",
   "name": "python3"
  },
  "language_info": {
   "codemirror_mode": {
    "name": "ipython",
    "version": 3
   },
   "file_extension": ".py",
   "mimetype": "text/x-python",
   "name": "python",
   "nbconvert_exporter": "python",
   "pygments_lexer": "ipython3",
   "version": "3.12.6"
  }
 },
 "nbformat": 4,
 "nbformat_minor": 2
}
