{
 "cells": [
  {
   "cell_type": "markdown",
   "metadata": {},
   "source": [
    "# Data Preprocessing"
   ]
  },
  {
   "cell_type": "markdown",
   "metadata": {},
   "source": [
    "## Environment Setup"
   ]
  },
  {
   "cell_type": "code",
   "execution_count": 1,
   "metadata": {},
   "outputs": [
    {
     "name": "stdout",
     "output_type": "stream",
     "text": [
      "Defaulting to user installation because normal site-packages is not writeable\n",
      "Requirement already satisfied: pandas in /Users/brbharad/Library/Python/3.9/lib/python/site-packages (from -r ../requirements.txt (line 1)) (2.2.3)\n",
      "Requirement already satisfied: matplotlib in /Users/brbharad/Library/Python/3.9/lib/python/site-packages (from -r ../requirements.txt (line 2)) (3.9.2)\n",
      "Requirement already satisfied: seaborn in /Users/brbharad/Library/Python/3.9/lib/python/site-packages (from -r ../requirements.txt (line 3)) (0.13.2)\n",
      "Requirement already satisfied: torch in /Users/brbharad/Library/Python/3.9/lib/python/site-packages (from -r ../requirements.txt (line 4)) (2.4.1)\n",
      "Requirement already satisfied: transformers in /Users/brbharad/Library/Python/3.9/lib/python/site-packages (from -r ../requirements.txt (line 5)) (4.45.1)\n",
      "Requirement already satisfied: vaderSentiment in /Users/brbharad/Library/Python/3.9/lib/python/site-packages (from -r ../requirements.txt (line 6)) (3.3.2)\n",
      "Requirement already satisfied: newsapi-python in /Users/brbharad/Library/Python/3.9/lib/python/site-packages (from -r ../requirements.txt (line 7)) (0.2.7)\n",
      "Requirement already satisfied: newspaper3k in /Users/brbharad/Library/Python/3.9/lib/python/site-packages (from -r ../requirements.txt (line 8)) (0.2.8)\n",
      "Requirement already satisfied: nltk in /Users/brbharad/Library/Python/3.9/lib/python/site-packages (from -r ../requirements.txt (line 9)) (3.9.1)\n",
      "Requirement already satisfied: lxml_html_clean in /Users/brbharad/Library/Python/3.9/lib/python/site-packages (from -r ../requirements.txt (line 10)) (0.3.1)\n",
      "Requirement already satisfied: numpy>=1.22.4 in /Users/brbharad/Library/Python/3.9/lib/python/site-packages (from pandas->-r ../requirements.txt (line 1)) (2.0.2)\n",
      "Requirement already satisfied: pytz>=2020.1 in /Users/brbharad/Library/Python/3.9/lib/python/site-packages (from pandas->-r ../requirements.txt (line 1)) (2024.2)\n",
      "Requirement already satisfied: python-dateutil>=2.8.2 in /Users/brbharad/Library/Python/3.9/lib/python/site-packages (from pandas->-r ../requirements.txt (line 1)) (2.9.0.post0)\n",
      "Requirement already satisfied: tzdata>=2022.7 in /Users/brbharad/Library/Python/3.9/lib/python/site-packages (from pandas->-r ../requirements.txt (line 1)) (2024.2)\n",
      "Requirement already satisfied: pyparsing>=2.3.1 in /Users/brbharad/Library/Python/3.9/lib/python/site-packages (from matplotlib->-r ../requirements.txt (line 2)) (3.1.4)\n",
      "Requirement already satisfied: importlib-resources>=3.2.0 in /Users/brbharad/Library/Python/3.9/lib/python/site-packages (from matplotlib->-r ../requirements.txt (line 2)) (6.4.5)\n",
      "Requirement already satisfied: cycler>=0.10 in /Users/brbharad/Library/Python/3.9/lib/python/site-packages (from matplotlib->-r ../requirements.txt (line 2)) (0.12.1)\n",
      "Requirement already satisfied: contourpy>=1.0.1 in /Users/brbharad/Library/Python/3.9/lib/python/site-packages (from matplotlib->-r ../requirements.txt (line 2)) (1.3.0)\n",
      "Requirement already satisfied: packaging>=20.0 in /Users/brbharad/Library/Python/3.9/lib/python/site-packages (from matplotlib->-r ../requirements.txt (line 2)) (24.1)\n",
      "Requirement already satisfied: kiwisolver>=1.3.1 in /Users/brbharad/Library/Python/3.9/lib/python/site-packages (from matplotlib->-r ../requirements.txt (line 2)) (1.4.7)\n",
      "Requirement already satisfied: pillow>=8 in /Users/brbharad/Library/Python/3.9/lib/python/site-packages (from matplotlib->-r ../requirements.txt (line 2)) (10.4.0)\n",
      "Requirement already satisfied: fonttools>=4.22.0 in /Users/brbharad/Library/Python/3.9/lib/python/site-packages (from matplotlib->-r ../requirements.txt (line 2)) (4.54.1)\n",
      "Requirement already satisfied: networkx in /Users/brbharad/Library/Python/3.9/lib/python/site-packages (from torch->-r ../requirements.txt (line 4)) (3.2.1)\n",
      "Requirement already satisfied: typing-extensions>=4.8.0 in /Users/brbharad/Library/Python/3.9/lib/python/site-packages (from torch->-r ../requirements.txt (line 4)) (4.12.2)\n",
      "Requirement already satisfied: filelock in /Users/brbharad/Library/Python/3.9/lib/python/site-packages (from torch->-r ../requirements.txt (line 4)) (3.16.1)\n",
      "Requirement already satisfied: jinja2 in /Users/brbharad/Library/Python/3.9/lib/python/site-packages (from torch->-r ../requirements.txt (line 4)) (3.1.4)\n",
      "Requirement already satisfied: fsspec in /Users/brbharad/Library/Python/3.9/lib/python/site-packages (from torch->-r ../requirements.txt (line 4)) (2024.9.0)\n",
      "Requirement already satisfied: sympy in /Users/brbharad/Library/Python/3.9/lib/python/site-packages (from torch->-r ../requirements.txt (line 4)) (1.13.3)\n",
      "Requirement already satisfied: huggingface-hub<1.0,>=0.23.2 in /Users/brbharad/Library/Python/3.9/lib/python/site-packages (from transformers->-r ../requirements.txt (line 5)) (0.25.1)\n",
      "Requirement already satisfied: tokenizers<0.21,>=0.20 in /Users/brbharad/Library/Python/3.9/lib/python/site-packages (from transformers->-r ../requirements.txt (line 5)) (0.20.0)\n",
      "Requirement already satisfied: requests in /Users/brbharad/Library/Python/3.9/lib/python/site-packages (from transformers->-r ../requirements.txt (line 5)) (2.32.3)\n",
      "Requirement already satisfied: tqdm>=4.27 in /Users/brbharad/Library/Python/3.9/lib/python/site-packages (from transformers->-r ../requirements.txt (line 5)) (4.66.5)\n",
      "Requirement already satisfied: pyyaml>=5.1 in /Users/brbharad/Library/Python/3.9/lib/python/site-packages (from transformers->-r ../requirements.txt (line 5)) (6.0.2)\n",
      "Requirement already satisfied: safetensors>=0.4.1 in /Users/brbharad/Library/Python/3.9/lib/python/site-packages (from transformers->-r ../requirements.txt (line 5)) (0.4.5)\n",
      "Requirement already satisfied: regex!=2019.12.17 in /Users/brbharad/Library/Python/3.9/lib/python/site-packages (from transformers->-r ../requirements.txt (line 5)) (2024.9.11)\n",
      "Requirement already satisfied: jieba3k>=0.35.1 in /Users/brbharad/Library/Python/3.9/lib/python/site-packages (from newspaper3k->-r ../requirements.txt (line 8)) (0.35.1)\n",
      "Requirement already satisfied: tldextract>=2.0.1 in /Users/brbharad/Library/Python/3.9/lib/python/site-packages (from newspaper3k->-r ../requirements.txt (line 8)) (5.1.2)\n",
      "Requirement already satisfied: beautifulsoup4>=4.4.1 in /Users/brbharad/Library/Python/3.9/lib/python/site-packages (from newspaper3k->-r ../requirements.txt (line 8)) (4.12.3)\n",
      "Requirement already satisfied: feedparser>=5.2.1 in /Users/brbharad/Library/Python/3.9/lib/python/site-packages (from newspaper3k->-r ../requirements.txt (line 8)) (6.0.11)\n",
      "Requirement already satisfied: feedfinder2>=0.0.4 in /Users/brbharad/Library/Python/3.9/lib/python/site-packages (from newspaper3k->-r ../requirements.txt (line 8)) (0.0.4)\n",
      "Requirement already satisfied: lxml>=3.6.0 in /Users/brbharad/Library/Python/3.9/lib/python/site-packages (from newspaper3k->-r ../requirements.txt (line 8)) (5.3.0)\n",
      "Requirement already satisfied: cssselect>=0.9.2 in /Users/brbharad/Library/Python/3.9/lib/python/site-packages (from newspaper3k->-r ../requirements.txt (line 8)) (1.2.0)\n",
      "Requirement already satisfied: tinysegmenter==0.3 in /Users/brbharad/Library/Python/3.9/lib/python/site-packages (from newspaper3k->-r ../requirements.txt (line 8)) (0.3)\n",
      "Requirement already satisfied: joblib in /Users/brbharad/Library/Python/3.9/lib/python/site-packages (from nltk->-r ../requirements.txt (line 9)) (1.4.2)\n",
      "Requirement already satisfied: click in /Users/brbharad/Library/Python/3.9/lib/python/site-packages (from nltk->-r ../requirements.txt (line 9)) (8.1.7)\n",
      "Requirement already satisfied: soupsieve>1.2 in /Users/brbharad/Library/Python/3.9/lib/python/site-packages (from beautifulsoup4>=4.4.1->newspaper3k->-r ../requirements.txt (line 8)) (2.6)\n",
      "Requirement already satisfied: six in /Library/Developer/CommandLineTools/Library/Frameworks/Python3.framework/Versions/3.9/lib/python3.9/site-packages (from feedfinder2>=0.0.4->newspaper3k->-r ../requirements.txt (line 8)) (1.15.0)\n",
      "Requirement already satisfied: sgmllib3k in /Users/brbharad/Library/Python/3.9/lib/python/site-packages (from feedparser>=5.2.1->newspaper3k->-r ../requirements.txt (line 8)) (1.0.0)\n",
      "Requirement already satisfied: zipp>=3.1.0 in /Users/brbharad/Library/Python/3.9/lib/python/site-packages (from importlib-resources>=3.2.0->matplotlib->-r ../requirements.txt (line 2)) (3.20.2)\n",
      "Requirement already satisfied: certifi>=2017.4.17 in /Users/brbharad/Library/Python/3.9/lib/python/site-packages (from requests->transformers->-r ../requirements.txt (line 5)) (2024.7.4)\n",
      "Requirement already satisfied: idna<4,>=2.5 in /Users/brbharad/Library/Python/3.9/lib/python/site-packages (from requests->transformers->-r ../requirements.txt (line 5)) (3.7)\n",
      "Requirement already satisfied: urllib3<3,>=1.21.1 in /Users/brbharad/Library/Python/3.9/lib/python/site-packages (from requests->transformers->-r ../requirements.txt (line 5)) (2.2.2)\n",
      "Requirement already satisfied: charset-normalizer<4,>=2 in /Users/brbharad/Library/Python/3.9/lib/python/site-packages (from requests->transformers->-r ../requirements.txt (line 5)) (3.3.2)\n",
      "Requirement already satisfied: requests-file>=1.4 in /Users/brbharad/Library/Python/3.9/lib/python/site-packages (from tldextract>=2.0.1->newspaper3k->-r ../requirements.txt (line 8)) (2.1.0)\n",
      "Requirement already satisfied: MarkupSafe>=2.0 in /Users/brbharad/Library/Python/3.9/lib/python/site-packages (from jinja2->torch->-r ../requirements.txt (line 4)) (2.1.5)\n",
      "Requirement already satisfied: mpmath<1.4,>=1.1.0 in /Users/brbharad/Library/Python/3.9/lib/python/site-packages (from sympy->torch->-r ../requirements.txt (line 4)) (1.3.0)\n",
      "\u001b[33mWARNING: You are using pip version 21.2.4; however, version 24.3.1 is available.\n",
      "You should consider upgrading via the '/Library/Developer/CommandLineTools/usr/bin/python3 -m pip install --upgrade pip' command.\u001b[0m\n",
      "Note: you may need to restart the kernel to use updated packages.\n"
     ]
    }
   ],
   "source": [
    "%pip install -r '../requirements.txt'"
   ]
  },
  {
   "cell_type": "code",
   "execution_count": 2,
   "metadata": {},
   "outputs": [
    {
     "name": "stderr",
     "output_type": "stream",
     "text": [
      "/Users/brbharad/Library/Python/3.9/lib/python/site-packages/urllib3/__init__.py:35: NotOpenSSLWarning: urllib3 v2 only supports OpenSSL 1.1.1+, currently the 'ssl' module is compiled with 'LibreSSL 2.8.3'. See: https://github.com/urllib3/urllib3/issues/3020\n",
      "  warnings.warn(\n"
     ]
    }
   ],
   "source": [
    "import json\n",
    "import glob\n",
    "import torch\n",
    "import pandas as pd\n",
    "from datetime import datetime\n",
    "from transformers import pipeline\n",
    "from vaderSentiment.vaderSentiment import SentimentIntensityAnalyzer"
   ]
  },
  {
   "cell_type": "code",
   "execution_count": 3,
   "metadata": {},
   "outputs": [
    {
     "name": "stderr",
     "output_type": "stream",
     "text": [
      "[nltk_data] Downloading collection 'popular'\n",
      "[nltk_data]    | \n",
      "[nltk_data]    | Downloading package cmudict to\n",
      "[nltk_data]    |     /Users/brbharad/nltk_data...\n",
      "[nltk_data]    |   Package cmudict is already up-to-date!\n",
      "[nltk_data]    | Downloading package gazetteers to\n",
      "[nltk_data]    |     /Users/brbharad/nltk_data...\n",
      "[nltk_data]    |   Package gazetteers is already up-to-date!\n",
      "[nltk_data]    | Downloading package genesis to\n",
      "[nltk_data]    |     /Users/brbharad/nltk_data...\n",
      "[nltk_data]    |   Package genesis is already up-to-date!\n",
      "[nltk_data]    | Downloading package gutenberg to\n",
      "[nltk_data]    |     /Users/brbharad/nltk_data...\n",
      "[nltk_data]    |   Package gutenberg is already up-to-date!\n",
      "[nltk_data]    | Downloading package inaugural to\n",
      "[nltk_data]    |     /Users/brbharad/nltk_data...\n",
      "[nltk_data]    |   Package inaugural is already up-to-date!\n",
      "[nltk_data]    | Downloading package movie_reviews to\n",
      "[nltk_data]    |     /Users/brbharad/nltk_data...\n",
      "[nltk_data]    |   Package movie_reviews is already up-to-date!\n",
      "[nltk_data]    | Downloading package names to\n",
      "[nltk_data]    |     /Users/brbharad/nltk_data...\n",
      "[nltk_data]    |   Package names is already up-to-date!\n",
      "[nltk_data]    | Downloading package shakespeare to\n",
      "[nltk_data]    |     /Users/brbharad/nltk_data...\n",
      "[nltk_data]    |   Package shakespeare is already up-to-date!\n",
      "[nltk_data]    | Downloading package stopwords to\n",
      "[nltk_data]    |     /Users/brbharad/nltk_data...\n",
      "[nltk_data]    |   Package stopwords is already up-to-date!\n",
      "[nltk_data]    | Downloading package treebank to\n",
      "[nltk_data]    |     /Users/brbharad/nltk_data...\n",
      "[nltk_data]    |   Package treebank is already up-to-date!\n",
      "[nltk_data]    | Downloading package twitter_samples to\n",
      "[nltk_data]    |     /Users/brbharad/nltk_data...\n",
      "[nltk_data]    |   Package twitter_samples is already up-to-date!\n",
      "[nltk_data]    | Downloading package omw to\n",
      "[nltk_data]    |     /Users/brbharad/nltk_data...\n",
      "[nltk_data]    |   Package omw is already up-to-date!\n",
      "[nltk_data]    | Downloading package omw-1.4 to\n",
      "[nltk_data]    |     /Users/brbharad/nltk_data...\n",
      "[nltk_data]    |   Package omw-1.4 is already up-to-date!\n",
      "[nltk_data]    | Downloading package wordnet to\n",
      "[nltk_data]    |     /Users/brbharad/nltk_data...\n",
      "[nltk_data]    |   Package wordnet is already up-to-date!\n",
      "[nltk_data]    | Downloading package wordnet2021 to\n",
      "[nltk_data]    |     /Users/brbharad/nltk_data...\n",
      "[nltk_data]    |   Package wordnet2021 is already up-to-date!\n",
      "[nltk_data]    | Downloading package wordnet31 to\n",
      "[nltk_data]    |     /Users/brbharad/nltk_data...\n",
      "[nltk_data]    |   Package wordnet31 is already up-to-date!\n",
      "[nltk_data]    | Downloading package wordnet_ic to\n",
      "[nltk_data]    |     /Users/brbharad/nltk_data...\n",
      "[nltk_data]    |   Package wordnet_ic is already up-to-date!\n",
      "[nltk_data]    | Downloading package words to\n",
      "[nltk_data]    |     /Users/brbharad/nltk_data...\n",
      "[nltk_data]    |   Package words is already up-to-date!\n",
      "[nltk_data]    | Downloading package maxent_ne_chunker to\n",
      "[nltk_data]    |     /Users/brbharad/nltk_data...\n",
      "[nltk_data]    |   Package maxent_ne_chunker is already up-to-date!\n",
      "[nltk_data]    | Downloading package punkt to\n",
      "[nltk_data]    |     /Users/brbharad/nltk_data...\n",
      "[nltk_data]    |   Package punkt is already up-to-date!\n",
      "[nltk_data]    | Downloading package snowball_data to\n",
      "[nltk_data]    |     /Users/brbharad/nltk_data...\n",
      "[nltk_data]    |   Package snowball_data is already up-to-date!\n",
      "[nltk_data]    | Downloading package averaged_perceptron_tagger to\n",
      "[nltk_data]    |     /Users/brbharad/nltk_data...\n",
      "[nltk_data]    |   Package averaged_perceptron_tagger is already up-\n",
      "[nltk_data]    |       to-date!\n",
      "[nltk_data]    | \n",
      "[nltk_data]  Done downloading collection popular\n"
     ]
    },
    {
     "data": {
      "text/plain": [
       "True"
      ]
     },
     "execution_count": 3,
     "metadata": {},
     "output_type": "execute_result"
    }
   ],
   "source": [
    "import nltk\n",
    "nltk.download('popular')"
   ]
  },
  {
   "cell_type": "code",
   "execution_count": 4,
   "metadata": {},
   "outputs": [
    {
     "data": {
      "text/plain": [
       "False"
      ]
     },
     "execution_count": 4,
     "metadata": {},
     "output_type": "execute_result"
    }
   ],
   "source": [
    "# check if torch finds cuda\n",
    "torch.cuda.is_available()"
   ]
  },
  {
   "cell_type": "code",
   "execution_count": null,
   "metadata": {},
   "outputs": [],
   "source": [
    "# CONSTANTS\n",
    "DEVICE = torch.device('cuda' if torch.cuda.is_available() else 'cpu')\n",
    "FILENAME = '../Dataset/scraper/raw/rawdata_1731148570.344731.json'"
   ]
  },
  {
   "cell_type": "markdown",
   "metadata": {},
   "source": [
    "## Data Processing"
   ]
  },
  {
   "cell_type": "code",
   "execution_count": 6,
   "metadata": {},
   "outputs": [
    {
     "name": "stderr",
     "output_type": "stream",
     "text": [
      "No model was supplied, defaulted to sshleifer/distilbart-cnn-12-6 and revision a4f8f3e (https://huggingface.co/sshleifer/distilbart-cnn-12-6).\n",
      "Using a pipeline without specifying a model name and revision in production is not recommended.\n",
      "/Users/brbharad/Library/Python/3.9/lib/python/site-packages/transformers/tokenization_utils_base.py:1617: FutureWarning: `clean_up_tokenization_spaces` was not set. It will be set to `True` by default. This behavior will be deprecated in transformers v4.45, and will be then set to `False` by default. For more details check this issue: https://github.com/huggingface/transformers/issues/31884\n",
      "  warnings.warn(\n"
     ]
    }
   ],
   "source": [
    "summarizer = pipeline(\"summarization\", device=DEVICE)\n",
    "def get_summary(text):\n",
    "    summary = summarizer(text, truncation=True, max_length=300, min_length=50, do_sample=True, temperature=0.3)\n",
    "    return summary[0]['summary_text']"
   ]
  },
  {
   "cell_type": "code",
   "execution_count": 7,
   "metadata": {},
   "outputs": [],
   "source": [
    "def get_vader_score(text):\n",
    "    if type(text) != str or len(text) == 0:    return 0\n",
    "    text = text.strip()\n",
    "    analyzer = SentimentIntensityAnalyzer()\n",
    "    sentiment = analyzer.polarity_scores(text)\n",
    "    return sentiment[\"compound\"]"
   ]
  },
  {
   "cell_type": "code",
   "execution_count": null,
   "metadata": {},
   "outputs": [],
   "source": [
    "# %%script false --no-raise-error\n",
    "with open(FILENAME, 'r') as f:\n",
    "    data = json.load(f)\n",
    "article_df = pd.DataFrame(data)\n",
    "article_df['datetime'] = pd.to_datetime(article_df['datetime'])\n",
    "article_df.dropna(subset=['datetime'], inplace=True)\n",
    "article_df.head()"
   ]
  },
  {
   "cell_type": "code",
   "execution_count": null,
   "metadata": {},
   "outputs": [],
   "source": [
    "# %%script false --no-raise-error\n",
    "article_df['summary'] = article_df['text'].apply(get_summary)\n",
    "article_df['summary_vader'] = article_df['summary'].apply(get_vader_score)\n",
    "article_df['description_vader'] = article_df['description'].apply(get_vader_score)"
   ]
  },
  {
   "cell_type": "code",
   "execution_count": null,
   "metadata": {},
   "outputs": [],
   "source": [
    "# %%script false --no-raise-error\n",
    "article_df.drop(columns=['metadata', 'text'], inplace=True)\n",
    "article_df.sort_values('datetime', inplace=True)\n",
    "article_df.to_excel(FILENAME.replace('raw', 'preprocessed').replace('.json', '.xlsx'), index=False)\n",
    "article_df.head()"
   ]
  },
  {
   "cell_type": "code",
   "execution_count": null,
   "metadata": {},
   "outputs": [],
   "source": [
    "# Read each preprocessed file and concatenate them into a single DataFrame\n",
    "excel_files = glob.glob(\"../Dataset/scraper/processed/articledf_*.xlsx\")\n",
    "df_list = [pd.read_excel(file, parse_dates=['datetime']) for file in excel_files]\n",
    "article_df = pd.concat(df_list, ignore_index=True)\n",
    "article_df.drop_duplicates(subset=['url'])\n",
    "article_df.sort_values('datetime', inplace=True)\n",
    "article_df.to_excel(\"../Dataset/scraper/market_article_df.xlsx\", index=False)"
   ]
  }
 ],
 "metadata": {
  "kernelspec": {
   "display_name": "Python 3",
   "language": "python",
   "name": "python3"
  },
  "language_info": {
   "codemirror_mode": {
    "name": "ipython",
    "version": 3
   },
   "file_extension": ".py",
   "mimetype": "text/x-python",
   "name": "python",
   "nbconvert_exporter": "python",
   "pygments_lexer": "ipython3",
   "version": "3.12.6"
  }
 },
 "nbformat": 4,
 "nbformat_minor": 2
}
